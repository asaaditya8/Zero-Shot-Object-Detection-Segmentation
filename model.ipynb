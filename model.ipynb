{
 "cells": [
  {
   "cell_type": "code",
   "execution_count": 3,
   "metadata": {},
   "outputs": [],
   "source": [
    "import keras\n",
    "from keras.models import Model\n",
    "from keras.layers import *\n",
    "from keras.optimizers import *\n",
    "from keras.applications import InceptionResNetV2\n",
    "from keras.preprocessing import image\n",
    "import keras.backend as K"
   ]
  },
  {
   "cell_type": "code",
   "execution_count": 2,
   "metadata": {},
   "outputs": [],
   "source": [
    "import tensorflow as tf\n",
    "import numpy as np\n",
    "from LR_SGD import LR_SGD"
   ]
  },
  {
   "cell_type": "code",
   "execution_count": null,
   "metadata": {},
   "outputs": [],
   "source": [
    "model = InceptionResNetV2(include_top=False, input_shape=(224,224,3), weights='imagenet', pooling='avg')"
   ]
  },
  {
   "cell_type": "code",
   "execution_count": 44,
   "metadata": {},
   "outputs": [],
   "source": [
    "ip=Input((1536,))\n",
    "W = K.variable(K.random_normal((1536,300)), name='Weight')\n",
    "w_emb = Lambda(lambda x: K.dot(x, W), name='Embedding')(ip)\n",
    "recon_ip = Lambda(lambda x: K.dot(x, K.transpose(W)), name='Reconstructed_Input')(w_emb)"
   ]
  },
  {
   "cell_type": "code",
   "execution_count": 45,
   "metadata": {},
   "outputs": [
    {
     "name": "stdout",
     "output_type": "stream",
     "text": [
      "_________________________________________________________________\n",
      "Layer (type)                 Output Shape              Param #   \n",
      "=================================================================\n",
      "input_2 (InputLayer)         (None, 1536)              0         \n",
      "_________________________________________________________________\n",
      "Embedding (Lambda)           (None, 300)               0         \n",
      "_________________________________________________________________\n",
      "Reconstructed_Input (Lambda) (None, 1536)              0         \n",
      "=================================================================\n",
      "Total params: 0\n",
      "Trainable params: 0\n",
      "Non-trainable params: 0\n",
      "_________________________________________________________________\n"
     ]
    }
   ],
   "source": [
    "top_model= Model(inputs=ip, outputs=[w_emb, recon_ip])\n",
    "top_model.summary()"
   ]
  },
  {
   "cell_type": "code",
   "execution_count": 46,
   "metadata": {},
   "outputs": [
    {
     "data": {
      "text/plain": [
       "[(None, 300), (None, 1536)]"
      ]
     },
     "execution_count": 46,
     "metadata": {},
     "output_type": "execute_result"
    }
   ],
   "source": [
    "top_model.output_shape"
   ]
  },
  {
   "cell_type": "code",
   "execution_count": 8,
   "metadata": {},
   "outputs": [],
   "source": [
    "seen_embeddings = np.load('../emeddings/seen_glove6B_embeddings.npy')"
   ]
  },
  {
   "cell_type": "code",
   "execution_count": 47,
   "metadata": {},
   "outputs": [],
   "source": [
    "class_embeddings = K.constant(seen_embeddings)\n",
    "\n",
    "def cos_fn(d, e):\n",
    "    f = tf.nn.l2_normalize(d, axis=-1)\n",
    "    g = tf.nn.l2_normalize(e, axis=-1)\n",
    "    return tf.reduce_sum(tf.multiply(f, g), axis=-1)\n",
    "\n",
    "def loss_fn(y_pred, true_cls_emb):\n",
    "    pred_cls_emb = y_pred[0]\n",
    "    a = cos_fn(pred_cls_emb, class_embeddings) - cos_fn(pred_cls_emb, true_cls_emb) + 1\n",
    "    recon_loss = 1e-3*K.sum(K.square(y_pred[1] - ip), axis=-1)\n",
    "    return -1 + K.sum(K.maximum(a, 0), axis=-1) + recon_loss"
   ]
  },
  {
   "cell_type": "code",
   "execution_count": 6,
   "metadata": {},
   "outputs": [],
   "source": [
    "LR_mult_dict = {\n",
    "    'Embedding' : 1,\n",
    "    'Reconstructed_Input' : 0.01\n",
    "}\n",
    "base_lr = 0.001\n",
    "momentum = 0.9"
   ]
  },
  {
   "cell_type": "code",
   "execution_count": 48,
   "metadata": {},
   "outputs": [],
   "source": [
    "opt = LR_SGD(lr=base_lr, momentum=momentum, decay=0.0, multipliers=LR_mult_dict)\n",
    "top_model.compile(opt, loss=loss_fn, metrics=['accuracy'])"
   ]
  },
  {
   "cell_type": "code",
   "execution_count": null,
   "metadata": {},
   "outputs": [],
   "source": []
  },
  {
   "cell_type": "code",
   "execution_count": null,
   "metadata": {},
   "outputs": [],
   "source": []
  }
 ],
 "metadata": {
  "kernelspec": {
   "display_name": "Tf CPU 3.6",
   "language": "python",
   "name": "tfcpu"
  },
  "language_info": {
   "codemirror_mode": {
    "name": "ipython",
    "version": 3
   },
   "file_extension": ".py",
   "mimetype": "text/x-python",
   "name": "python",
   "nbconvert_exporter": "python",
   "pygments_lexer": "ipython3",
   "version": "3.6.4"
  }
 },
 "nbformat": 4,
 "nbformat_minor": 2
}
