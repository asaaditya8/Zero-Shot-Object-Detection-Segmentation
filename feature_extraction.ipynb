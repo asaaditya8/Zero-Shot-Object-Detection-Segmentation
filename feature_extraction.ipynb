{
 "cells": [
  {
   "cell_type": "code",
   "execution_count": 1,
   "metadata": {},
   "outputs": [],
   "source": [
    "import numpy as np\n",
    "import matplotlib.pyplot as plt\n",
    "from matplotlib import patches\n",
    "import json, os, PIL\n",
    "from PIL import Image\n",
    "from collections import defaultdict"
   ]
  },
  {
   "cell_type": "code",
   "execution_count": 2,
   "metadata": {},
   "outputs": [
    {
     "name": "stderr",
     "output_type": "stream",
     "text": [
      "Using TensorFlow backend.\n"
     ]
    }
   ],
   "source": [
    "import keras\n",
    "from keras.applications.inception_resnet_v2 import InceptionResNetV2, preprocess_input\n",
    "import keras.backend as K"
   ]
  },
  {
   "cell_type": "code",
   "execution_count": 3,
   "metadata": {},
   "outputs": [],
   "source": [
    "def limit_mem():\n",
    "    cfg = K.tf.ConfigProto()\n",
    "    cfg.gpu_options.allow_growth = True\n",
    "    K.set_session(K.tf.Session(config=cfg))\n",
    "\n",
    "limit_mem()"
   ]
  },
  {
   "cell_type": "code",
   "execution_count": 4,
   "metadata": {},
   "outputs": [],
   "source": [
    "model = InceptionResNetV2(include_top=False, pooling='avg', input_shape=(224,224,3))"
   ]
  },
  {
   "cell_type": "code",
   "execution_count": 12,
   "metadata": {},
   "outputs": [],
   "source": [
    "fpath = '../../Downloads/mscoco/train2017/'"
   ]
  },
  {
   "cell_type": "code",
   "execution_count": 5,
   "metadata": {},
   "outputs": [],
   "source": [
    "with open('train_seen_img_box_cat.json', 'r') as f:\n",
    "    img_box_cat = json.load(f)"
   ]
  },
  {
   "cell_type": "code",
   "execution_count": 6,
   "metadata": {},
   "outputs": [],
   "source": [
    "img_box_cat_ = {}\n",
    "for item in img_box_cat:\n",
    "    l= list(item.keys())[0]\n",
    "    img_box_cat_[l] = item[l]"
   ]
  },
  {
   "cell_type": "code",
   "execution_count": 19,
   "metadata": {},
   "outputs": [],
   "source": [
    "a = 0"
   ]
  },
  {
   "cell_type": "code",
   "execution_count": null,
   "metadata": {},
   "outputs": [],
   "source": [
    "im = Image.open(fpath+ os.listdir(fpath)[a]); a+=1; im"
   ]
  },
  {
   "cell_type": "markdown",
   "metadata": {},
   "source": [
    "bbox = img_box_cat[0]['000000391895.jpg'][1]['bbox:']; bbox"
   ]
  },
  {
   "cell_type": "markdown",
   "metadata": {},
   "source": [
    "coord = (bbox[0], bbox[1], bbox[2]+bbox[0], bbox[3]+bbox[1])"
   ]
  },
  {
   "cell_type": "markdown",
   "metadata": {},
   "source": [
    "img = Image.open(fpath+'000000391895.jpg')"
   ]
  },
  {
   "cell_type": "markdown",
   "metadata": {},
   "source": [
    "img.crop(coord).resize((224,224))"
   ]
  },
  {
   "cell_type": "markdown",
   "metadata": {},
   "source": [
    "res = model.predict_on_batch(preprocess_input(np.array(img.crop(coord).resize((224,224)), dtype='float32').reshape(-1, 224,224,3)))"
   ]
  },
  {
   "cell_type": "markdown",
   "metadata": {},
   "source": [
    "res.shape"
   ]
  },
  {
   "cell_type": "code",
   "execution_count": 7,
   "metadata": {},
   "outputs": [
    {
     "ename": "FileNotFoundError",
     "evalue": "[Errno 2] No such file or directory: 'color_images.json'",
     "output_type": "error",
     "traceback": [
      "\u001b[0;31m---------------------------------------------------------------------------\u001b[0m",
      "\u001b[0;31mFileNotFoundError\u001b[0m                         Traceback (most recent call last)",
      "\u001b[0;32m<ipython-input-7-387d50087d8f>\u001b[0m in \u001b[0;36m<module>\u001b[0;34m()\u001b[0m\n\u001b[0;32m----> 1\u001b[0;31m \u001b[0;32mwith\u001b[0m \u001b[0mopen\u001b[0m\u001b[0;34m(\u001b[0m\u001b[0;34m'color_images.json'\u001b[0m\u001b[0;34m,\u001b[0m \u001b[0;34m'r'\u001b[0m\u001b[0;34m)\u001b[0m \u001b[0;32mas\u001b[0m \u001b[0mf\u001b[0m\u001b[0;34m:\u001b[0m\u001b[0;34m\u001b[0m\u001b[0m\n\u001b[0m\u001b[1;32m      2\u001b[0m     \u001b[0mfinal_list\u001b[0m \u001b[0;34m=\u001b[0m \u001b[0mjson\u001b[0m\u001b[0;34m.\u001b[0m\u001b[0mload\u001b[0m\u001b[0;34m(\u001b[0m\u001b[0mf\u001b[0m\u001b[0;34m)\u001b[0m\u001b[0;34m\u001b[0m\u001b[0m\n",
      "\u001b[0;31mFileNotFoundError\u001b[0m: [Errno 2] No such file or directory: 'color_images.json'"
     ]
    }
   ],
   "source": [
    "with open('color_images.json', 'r') as f:\n",
    "    final_list = json.load(f)"
   ]
  },
  {
   "cell_type": "code",
   "execution_count": null,
   "metadata": {},
   "outputs": [],
   "source": [
    "len(final_list)"
   ]
  },
  {
   "cell_type": "code",
   "execution_count": null,
   "metadata": {},
   "outputs": [],
   "source": [
    "desired_list = []"
   ]
  },
  {
   "cell_type": "code",
   "execution_count": null,
   "metadata": {},
   "outputs": [],
   "source": [
    "for i in final_list:\n",
    "    k = list(img_box_cat[i].keys())[0]\n",
    "    v = img_box_cat[i][k]\n",
    "    for item in v:\n",
    "        a = [k, item]\n",
    "        desired_list.append(a)"
   ]
  },
  {
   "cell_type": "code",
   "execution_count": null,
   "metadata": {},
   "outputs": [],
   "source": [
    "print(len(desired_list), desired_list[0])"
   ]
  },
  {
   "cell_type": "markdown",
   "metadata": {},
   "source": [
    "final_list = []"
   ]
  },
  {
   "cell_type": "markdown",
   "metadata": {},
   "source": [
    "for i in range(0, len(img_box_cat), 10000):\n",
    "    with ThreadPoolExecutor(max_workers=128) as execr:\n",
    "        res = execr.map(get_size, range(i, min(i+10000, n)))\n",
    "        for r in res: app_(r)\n",
    "    print(i, len(final_list))"
   ]
  },
  {
   "cell_type": "markdown",
   "metadata": {},
   "source": [
    "def get_size(i):\n",
    "    it = img_box_cat[i]\n",
    "    img = Image.open(fpath+list(it.keys())[0])\n",
    "    img_array = np.array(img, dtype='uint8')\n",
    "    return (i, img_array.shape)\n",
    "\n",
    "def app_(ip):\n",
    "    shp = ip[1]\n",
    "    global final_list\n",
    "    if len(shp) ==3:\n",
    "        if shp[2] == 3:\n",
    "            final_list.append(ip[0])"
   ]
  },
  {
   "cell_type": "code",
   "execution_count": 2,
   "metadata": {},
   "outputs": [
    {
     "data": {
      "text/plain": [
       "'/home/met/ug/16144001/ml_18/Zero-Shot-Object-Detection-Segmentation'"
      ]
     },
     "execution_count": 2,
     "metadata": {},
     "output_type": "execute_result"
    }
   ],
   "source": [
    "pwd"
   ]
  },
  {
   "cell_type": "code",
   "execution_count": 3,
   "metadata": {},
   "outputs": [],
   "source": [
    "import threading, bcolz\n",
    "from tqdm import tqdm\n",
    "from concurrent.futures import ThreadPoolExecutor\n",
    "# from bcolz_array_iterator import BcolzArrayIterator"
   ]
  },
  {
   "cell_type": "code",
   "execution_count": 8,
   "metadata": {
    "collapsed": true
   },
   "outputs": [],
   "source": [
    "bc_path = '/home/met/ug/16144001/ml_18/Zero-Shot-Object-Detection-Segmentation/coco_seen_train_features.bc'"
   ]
  },
  {
   "cell_type": "code",
   "execution_count": null,
   "metadata": {},
   "outputs": [],
   "source": [
    "# arr = bcolz.carray(np.empty((0, 1536), 'float32'), \n",
    "#                    chunklen=16, mode='r', rootdir=bc_path)"
   ]
  },
  {
   "cell_type": "code",
   "execution_count": 5,
   "metadata": {},
   "outputs": [],
   "source": [
    "arr = bcolz.open(bc_path)"
   ]
  },
  {
   "cell_type": "code",
   "execution_count": 7,
   "metadata": {},
   "outputs": [
    {
     "data": {
      "text/plain": [
       "array([0.16688175, 0.36298326, 0.37069005, ..., 0.32237312, 1.3802015 ,\n",
       "       0.5637785 ], dtype=float32)"
      ]
     },
     "execution_count": 7,
     "metadata": {},
     "output_type": "execute_result"
    }
   ],
   "source": [
    "arr[0]"
   ]
  },
  {
   "cell_type": "code",
   "execution_count": 43,
   "metadata": {},
   "outputs": [
    {
     "name": "stdout",
     "output_type": "stream",
     "text": [
      "663866\n"
     ]
    }
   ],
   "source": [
    "# tl = threading.local()\n",
    "# tl.place = np.zeros((128,1536), 'float32')\n",
    "# tl.place = np.zeros((224,224,3), 'uint8')\n",
    "n = len(desired_list); print(n)\n",
    "img_batch = []\n",
    "all_cat_names = []\n",
    "# total_predictions = np.zeros((n,1536), dtype='float32')\n",
    "step=4096"
   ]
  },
  {
   "cell_type": "code",
   "execution_count": 9,
   "metadata": {},
   "outputs": [],
   "source": [
    "def process_img(i):\n",
    "    value = desired_list[i]\n",
    "    img = Image.open(fpath+value[0])\n",
    "    item = value[1]\n",
    "    bbox = item['bbox:']\n",
    "    cat_name = item['category']\n",
    "    coord = (bbox[0], bbox[1], bbox[2]+bbox[0], bbox[3]+bbox[1])\n",
    "    img_array = np.array(img.crop(coord).resize((224,224)), dtype='float32')\n",
    "#     if img_array.shape == (224,224,3):\n",
    "    return (cat_name, img_array)\n",
    "#     else: print('couldn\\'t resize the image', img_array.shape)\n",
    "\n",
    "def app_img(r):\n",
    "    all_cat_names.append(r[0])\n",
    "#     tl.place[:] = (np.array(r[1]) if r else 0)\n",
    "    img_batch.append(r[1])\n",
    "    \n",
    "def predict():    \n",
    "    global img_batch\n",
    "#     print(len(img_batch))\n",
    "    arr.append(model.predict( preprocess_input(np.stack(img_batch)) , batch_size=128) )\n",
    "    img_batch=[]\n",
    "#     if len(img_batch) != 0: print('couldn\\'t clear img_batch')"
   ]
  },
  {
   "cell_type": "code",
   "execution_count": 11,
   "metadata": {},
   "outputs": [
    {
     "ename": "NameError",
     "evalue": "name 'desired_list' is not defined",
     "output_type": "error",
     "traceback": [
      "\u001b[0;31m---------------------------------------------------------------------------\u001b[0m",
      "\u001b[0;31mNameError\u001b[0m                                 Traceback (most recent call last)",
      "\u001b[0;32m<ipython-input-11-50bf3d520ef3>\u001b[0m in \u001b[0;36m<module>\u001b[0;34m()\u001b[0m\n\u001b[0;32m----> 1\u001b[0;31m \u001b[0mplt\u001b[0m\u001b[0;34m.\u001b[0m\u001b[0mimshow\u001b[0m\u001b[0;34m(\u001b[0m\u001b[0mprocess_img\u001b[0m\u001b[0;34m(\u001b[0m\u001b[0;36m1\u001b[0m\u001b[0;34m)\u001b[0m\u001b[0;34m.\u001b[0m\u001b[0mastype\u001b[0m\u001b[0;34m(\u001b[0m\u001b[0;34m'uint8'\u001b[0m\u001b[0;34m)\u001b[0m\u001b[0;34m)\u001b[0m\u001b[0;34m\u001b[0m\u001b[0m\n\u001b[0m",
      "\u001b[0;32m<ipython-input-9-73388e6d5458>\u001b[0m in \u001b[0;36mprocess_img\u001b[0;34m(i)\u001b[0m\n\u001b[1;32m      1\u001b[0m \u001b[0;32mdef\u001b[0m \u001b[0mprocess_img\u001b[0m\u001b[0;34m(\u001b[0m\u001b[0mi\u001b[0m\u001b[0;34m)\u001b[0m\u001b[0;34m:\u001b[0m\u001b[0;34m\u001b[0m\u001b[0m\n\u001b[0;32m----> 2\u001b[0;31m     \u001b[0mvalue\u001b[0m \u001b[0;34m=\u001b[0m \u001b[0mdesired_list\u001b[0m\u001b[0;34m[\u001b[0m\u001b[0mi\u001b[0m\u001b[0;34m]\u001b[0m\u001b[0;34m\u001b[0m\u001b[0m\n\u001b[0m\u001b[1;32m      3\u001b[0m     \u001b[0mimg\u001b[0m \u001b[0;34m=\u001b[0m \u001b[0mImage\u001b[0m\u001b[0;34m.\u001b[0m\u001b[0mopen\u001b[0m\u001b[0;34m(\u001b[0m\u001b[0mfpath\u001b[0m\u001b[0;34m+\u001b[0m\u001b[0mvalue\u001b[0m\u001b[0;34m[\u001b[0m\u001b[0;36m0\u001b[0m\u001b[0;34m]\u001b[0m\u001b[0;34m)\u001b[0m\u001b[0;34m\u001b[0m\u001b[0m\n\u001b[1;32m      4\u001b[0m     \u001b[0mitem\u001b[0m \u001b[0;34m=\u001b[0m \u001b[0mvalue\u001b[0m\u001b[0;34m[\u001b[0m\u001b[0;36m1\u001b[0m\u001b[0;34m]\u001b[0m\u001b[0;34m\u001b[0m\u001b[0m\n\u001b[1;32m      5\u001b[0m     \u001b[0mbbox\u001b[0m \u001b[0;34m=\u001b[0m \u001b[0mitem\u001b[0m\u001b[0;34m[\u001b[0m\u001b[0;34m'bbox:'\u001b[0m\u001b[0;34m]\u001b[0m\u001b[0;34m\u001b[0m\u001b[0m\n",
      "\u001b[0;31mNameError\u001b[0m: name 'desired_list' is not defined"
     ]
    }
   ],
   "source": [
    "plt.imshow(process_img(1).astype('uint8'))"
   ]
  },
  {
   "cell_type": "code",
   "execution_count": null,
   "metadata": {},
   "outputs": [],
   "source": []
  },
  {
   "cell_type": "code",
   "execution_count": 48,
   "metadata": {},
   "outputs": [
    {
     "name": "stderr",
     "output_type": "stream",
     "text": [
      "\n",
      "\n",
      "  0%|          | 0/79 [00:00<?, ?it/s]\u001b[A\u001b[A\n",
      "\n",
      "  1%|▏         | 1/79 [09:10<11:55:50, 550.65s/it]\u001b[A\u001b[A\n",
      "\n",
      "  3%|▎         | 2/79 [12:13<7:50:35, 366.70s/it] \u001b[A\u001b[A\n",
      "\n",
      "  4%|▍         | 3/79 [15:17<6:27:14, 305.72s/it]\u001b[A\u001b[A\n",
      "\n",
      "  5%|▌         | 4/79 [18:21<5:44:09, 275.32s/it]\u001b[A\u001b[A\n",
      "\n",
      "  6%|▋         | 5/79 [21:25<5:16:59, 257.02s/it]\u001b[A\u001b[A\n",
      "\n",
      "  8%|▊         | 6/79 [24:27<4:57:38, 244.64s/it]\u001b[A\u001b[A\n",
      "\n",
      "  9%|▉         | 7/79 [27:29<4:42:50, 235.71s/it]\u001b[A\u001b[A\n",
      "\n",
      " 10%|█         | 8/79 [30:32<4:31:02, 229.05s/it]\u001b[A\u001b[A\n",
      "\n",
      " 11%|█▏        | 9/79 [33:35<4:21:13, 223.91s/it]\u001b[A\u001b[A\n",
      "\n",
      " 13%|█▎        | 10/79 [36:39<4:12:56, 219.95s/it]\u001b[A\u001b[A\n",
      "\n",
      " 14%|█▍        | 11/79 [39:48<4:06:05, 217.13s/it]\u001b[A\u001b[A\n",
      "\n",
      " 15%|█▌        | 12/79 [42:58<3:59:58, 214.91s/it]\u001b[A\u001b[A\n",
      "\n",
      " 16%|█▋        | 13/79 [46:11<3:54:28, 213.16s/it]\u001b[A\u001b[A\n",
      "\n",
      " 18%|█▊        | 14/79 [49:23<3:49:19, 211.68s/it]\u001b[A\u001b[A\n",
      "\n",
      " 19%|█▉        | 15/79 [52:34<3:44:19, 210.31s/it]\u001b[A\u001b[A\n",
      "\n",
      " 20%|██        | 16/79 [55:46<3:39:35, 209.14s/it]\u001b[A\u001b[A\n",
      "\n",
      " 22%|██▏       | 17/79 [58:56<3:34:59, 208.05s/it]\u001b[A\u001b[A\n",
      "\n",
      " 23%|██▎       | 18/79 [1:02:00<3:30:08, 206.70s/it]\u001b[A\u001b[A\n",
      "\n",
      " 24%|██▍       | 19/79 [1:05:03<3:25:28, 205.47s/it]\u001b[A\u001b[A\n",
      "\n",
      " 25%|██▌       | 20/79 [1:08:07<3:20:58, 204.37s/it]\u001b[A\u001b[A\n",
      "\n",
      " 27%|██▋       | 21/79 [1:11:10<3:16:34, 203.35s/it]\u001b[A\u001b[A\n",
      "\n",
      " 28%|██▊       | 22/79 [1:14:10<3:12:11, 202.31s/it]\u001b[A\u001b[A\n",
      "\n",
      " 29%|██▉       | 23/79 [1:17:11<3:07:56, 201.36s/it]\u001b[A\u001b[A\n",
      "\n",
      " 30%|███       | 24/79 [1:20:16<3:03:58, 200.70s/it]\u001b[A\u001b[A\n",
      "\n",
      " 32%|███▏      | 25/79 [1:23:18<2:59:57, 199.96s/it]\u001b[A\u001b[A\n",
      "\n",
      " 33%|███▎      | 26/79 [1:26:22<2:56:03, 199.32s/it]\u001b[A\u001b[A\n",
      "\n",
      " 34%|███▍      | 27/79 [1:29:25<2:52:14, 198.73s/it]\u001b[A\u001b[A\n",
      "\n",
      " 35%|███▌      | 28/79 [1:32:32<2:48:33, 198.30s/it]\u001b[A\u001b[A\n",
      "\n",
      " 37%|███▋      | 29/79 [1:35:38<2:44:54, 197.88s/it]\u001b[A\u001b[A\n",
      "\n",
      " 38%|███▊      | 30/79 [1:38:46<2:41:19, 197.54s/it]\u001b[A\u001b[A\n",
      "\n",
      " 39%|███▉      | 31/79 [1:41:53<2:37:45, 197.21s/it]\u001b[A\u001b[A\n",
      "\n",
      " 41%|████      | 32/79 [1:45:00<2:34:14, 196.90s/it]\u001b[A\u001b[A\n",
      "\n",
      " 42%|████▏     | 33/79 [1:48:08<2:30:44, 196.61s/it]\u001b[A\u001b[A\n",
      "\n",
      " 43%|████▎     | 34/79 [1:51:12<2:27:11, 196.25s/it]\u001b[A\u001b[A\n",
      "\n",
      " 44%|████▍     | 35/79 [1:54:16<2:23:39, 195.89s/it]\u001b[A\u001b[A\n",
      "\n",
      " 46%|████▌     | 36/79 [1:57:18<2:20:06, 195.51s/it]\u001b[A\u001b[A\n",
      "\n",
      " 47%|████▋     | 37/79 [2:00:21<2:16:36, 195.16s/it]\u001b[A\u001b[A\n",
      "\n",
      " 48%|████▊     | 38/79 [2:03:22<2:13:07, 194.81s/it]\u001b[A\u001b[A\n",
      "\n",
      " 49%|████▉     | 39/79 [2:06:24<2:09:38, 194.46s/it]\u001b[A\u001b[A\n",
      "\n",
      " 51%|█████     | 40/79 [2:09:25<2:06:11, 194.14s/it]\u001b[A\u001b[A\n",
      "\n",
      " 52%|█████▏    | 41/79 [2:12:27<2:02:46, 193.85s/it]\u001b[A\u001b[A\n",
      "\n",
      " 53%|█████▎    | 42/79 [2:15:31<1:59:23, 193.61s/it]\u001b[A\u001b[A\n",
      "\n",
      " 54%|█████▍    | 43/79 [2:18:29<1:55:56, 193.24s/it]\u001b[A\u001b[A\n",
      "\n",
      " 56%|█████▌    | 44/79 [2:21:37<1:52:39, 193.12s/it]\u001b[A\u001b[A\n",
      "\n",
      " 57%|█████▋    | 45/79 [2:24:44<1:49:21, 192.99s/it]\u001b[A\u001b[A\n",
      "\n",
      " 58%|█████▊    | 46/79 [2:27:53<1:46:05, 192.89s/it]\u001b[A\u001b[A\n",
      "\n",
      " 59%|█████▉    | 47/79 [2:31:01<1:42:49, 192.79s/it]\u001b[A\u001b[A\n",
      "\n",
      " 61%|██████    | 48/79 [2:34:10<1:39:34, 192.73s/it]\u001b[A\u001b[A\n",
      "\n",
      " 62%|██████▏   | 49/79 [2:37:20<1:36:19, 192.66s/it]\u001b[A\u001b[A\n",
      "\n",
      " 63%|██████▎   | 50/79 [2:40:29<1:33:05, 192.60s/it]\u001b[A\u001b[A\n",
      "\n",
      " 65%|██████▍   | 51/79 [2:42:58<1:29:28, 191.74s/it]\u001b[A\u001b[A\n",
      "\n",
      " 66%|██████▌   | 52/79 [2:45:23<1:25:52, 190.84s/it]\u001b[A\u001b[A\n",
      "\n",
      " 67%|██████▋   | 53/79 [2:47:48<1:22:19, 189.97s/it]\u001b[A\u001b[A\n",
      "\n",
      " 68%|██████▊   | 54/79 [2:50:13<1:18:48, 189.14s/it]\u001b[A\u001b[A\n",
      "\n",
      " 70%|██████▉   | 55/79 [2:52:37<1:15:19, 188.32s/it]\u001b[A\u001b[A\n",
      "\n",
      " 71%|███████   | 56/79 [2:55:03<1:11:53, 187.56s/it]\u001b[A\u001b[A\n",
      "\n",
      " 72%|███████▏  | 57/79 [2:57:27<1:08:29, 186.80s/it]\u001b[A\u001b[A\n",
      "\n",
      " 73%|███████▎  | 58/79 [2:59:51<1:05:07, 186.06s/it]\u001b[A\u001b[A\n",
      "\n",
      " 75%|███████▍  | 59/79 [3:02:21<1:01:49, 185.45s/it]\u001b[A\u001b[A\n",
      "\n",
      " 76%|███████▌  | 60/79 [3:04:49<58:31, 184.82s/it]  \u001b[A\u001b[A\n",
      "\n",
      " 77%|███████▋  | 61/79 [3:07:18<55:16, 184.24s/it]\u001b[A\u001b[A\n",
      "\n",
      " 78%|███████▊  | 62/79 [3:09:44<52:01, 183.62s/it]\u001b[A\u001b[A\n",
      "\n",
      " 80%|███████▉  | 63/79 [3:12:11<48:48, 183.04s/it]\u001b[A\u001b[A\n",
      "\n",
      " 81%|████████  | 64/79 [3:14:39<45:37, 182.50s/it]\u001b[A\u001b[A\n",
      "\n",
      " 82%|████████▏ | 65/79 [3:17:06<42:27, 181.95s/it]\u001b[A\u001b[A\n",
      "\n",
      " 84%|████████▎ | 66/79 [3:19:29<39:17, 181.36s/it]\u001b[A\u001b[A\n",
      "\n",
      " 85%|████████▍ | 67/79 [3:21:55<36:09, 180.82s/it]\u001b[A\u001b[A\n",
      "\n",
      " 86%|████████▌ | 68/79 [3:24:20<33:03, 180.31s/it]\u001b[A\u001b[A\n",
      "\n",
      " 87%|████████▋ | 69/79 [3:26:46<29:58, 179.81s/it]\u001b[A\u001b[A\n",
      "\n",
      " 89%|████████▊ | 70/79 [3:29:13<26:53, 179.33s/it]\u001b[A\u001b[A\n",
      "\n",
      " 90%|████████▉ | 71/79 [3:31:37<23:50, 178.83s/it]\u001b[A\u001b[A\n",
      "\n",
      " 91%|█████████ | 72/79 [3:34:03<20:48, 178.38s/it]\u001b[A\u001b[A\n",
      "\n",
      " 92%|█████████▏| 73/79 [3:36:28<17:47, 177.93s/it]\u001b[A\u001b[A\n",
      "\n",
      " 94%|█████████▎| 74/79 [3:38:54<14:47, 177.49s/it]\u001b[A\u001b[A\n",
      "\n",
      " 95%|█████████▍| 75/79 [3:41:20<11:48, 177.08s/it]\u001b[A\u001b[A\n",
      "\n",
      " 96%|█████████▌| 76/79 [3:43:47<08:50, 176.67s/it]\u001b[A\u001b[A\n",
      "\n",
      " 97%|█████████▋| 77/79 [3:46:12<05:52, 176.26s/it]\u001b[A\u001b[A\n",
      "\n",
      " 99%|█████████▊| 78/79 [3:48:38<02:55, 175.88s/it]\u001b[A\u001b[A\n",
      "\n",
      "100%|██████████| 79/79 [3:48:51<00:00, 173.82s/it]\u001b[A\u001b[A\n",
      "\n",
      "\u001b[A\u001b[A"
     ]
    }
   ],
   "source": [
    "for i in tqdm(range(344064, n, step)):\n",
    "    with ThreadPoolExecutor(max_workers=64) as execr:\n",
    "        res = execr.map(process_img, range(i, min(i+step, n)))\n",
    "        for r in res: app_img(r)\n",
    "    predict()\n",
    "    arr.flush()\n",
    "        \n",
    "with open('all_cat_names.json', 'w') as f:\n",
    "    json.dump(all_cat_names, f)"
   ]
  },
  {
   "cell_type": "code",
   "execution_count": null,
   "metadata": {},
   "outputs": [
    {
     "name": "stderr",
     "output_type": "stream",
     "text": [
      " 48%|████▊     | 78/163 [3:49:06<4:09:39, 176.23s/it]"
     ]
    }
   ],
   "source": [
    "for i in tqdm(range(0, n, step)):\n",
    "#     with ThreadPoolExecutor(max_workers=64) as execr:\n",
    "#         res = execr.map(process_img, range(i, min(i+step, n)))\n",
    "#         for r in res: app_img(r)\n",
    "#     predict()\n",
    "#     arr.flush()\n",
    "        \n",
    "# with open('all_cat_names.json', 'w') as f:\n",
    "#     json.dump(all_cat_names, f)"
   ]
  },
  {
   "cell_type": "code",
   "execution_count": null,
   "metadata": {},
   "outputs": [],
   "source": []
  },
  {
   "cell_type": "code",
   "execution_count": null,
   "metadata": {},
   "outputs": [],
   "source": []
  },
  {
   "cell_type": "markdown",
   "metadata": {},
   "source": [
    "no_of_boxes = []\n",
    "for i in img_box_cat[:10]:\n",
    "    name = list(i.keys())[0]\n",
    "    no_of_boxes.append(len(i[name]))"
   ]
  },
  {
   "cell_type": "markdown",
   "metadata": {},
   "source": [
    "np.median(no_of_boxes)"
   ]
  },
  {
   "cell_type": "markdown",
   "metadata": {},
   "source": [
    "for i in img_box_cat[:10]:\n",
    "    name = list(i.keys())[0]\n",
    "    print(len(i[name]), end=' ')"
   ]
  },
  {
   "cell_type": "markdown",
   "metadata": {},
   "source": [
    "import time\n",
    "from tqdm import tqdm"
   ]
  },
  {
   "cell_type": "markdown",
   "metadata": {},
   "source": [
    "for i in tqdm(range(10)):\n",
    "    time.sleep(0.1)"
   ]
  },
  {
   "cell_type": "markdown",
   "metadata": {},
   "source": []
  },
  {
   "cell_type": "markdown",
   "metadata": {},
   "source": [
    "## Checking Error"
   ]
  },
  {
   "cell_type": "markdown",
   "metadata": {},
   "source": [
    "## Still there is error size of total objects does not match the length of the array"
   ]
  },
  {
   "cell_type": "code",
   "execution_count": 42,
   "metadata": {},
   "outputs": [],
   "source": [
    "del value, img, item, bbox, cat_name, coord, img_array"
   ]
  },
  {
   "cell_type": "code",
   "execution_count": 23,
   "metadata": {},
   "outputs": [],
   "source": [
    "first_stored_prob = arr[0]"
   ]
  },
  {
   "cell_type": "code",
   "execution_count": 29,
   "metadata": {},
   "outputs": [],
   "source": [
    "value = desired_list[344063]\n",
    "img = Image.open(fpath+value[0])\n",
    "item = value[1]\n",
    "bbox = item['bbox:']\n",
    "cat_name = item['category']\n",
    "coord = (bbox[0], bbox[1], bbox[2]+bbox[0], bbox[3]+bbox[1])\n",
    "img_array = np.array(img.crop(coord).resize((224,224)), dtype='float32')\n",
    "#     if img_array.shape == (224,224,3):\n",
    "prob = model.predict( preprocess_input(img_array.reshape(-1,224,224,3)))"
   ]
  },
  {
   "cell_type": "code",
   "execution_count": null,
   "metadata": {},
   "outputs": [],
   "source": [
    "663866"
   ]
  },
  {
   "cell_type": "code",
   "execution_count": 49,
   "metadata": {},
   "outputs": [
    {
     "data": {
      "text/plain": [
       "carray((672058, 1536), float32)\n",
       "  nbytes := 3.85 GB; cbytes := 3.57 GB; ratio: 1.08\n",
       "  cparams := cparams(clevel=5, shuffle=1, cname='lz4', quantize=0)\n",
       "  chunklen := 16; chunksize: 98304; blocksize: 98304\n",
       "  rootdir := '/home/met/ug/16144001/ml_18/Zero-Shot-Object-Detection-Segmentation/coco_seen_train_features.bc'\n",
       "  mode    := 'a'\n",
       "[[  1.66881755e-01   3.62983257e-01   3.70690048e-01 ...,   3.22373122e-01\n",
       "    1.38020146e+00   5.63778520e-01]\n",
       " [  1.51414052e-01   6.24765396e-01   2.21562177e-01 ...,   2.28613243e-01\n",
       "    2.47435403e+00   1.16587436e+00]\n",
       " [  7.77609348e-02   9.21879113e-01   1.12419069e+00 ...,   3.73364717e-01\n",
       "    1.24330533e+00   1.69906902e+00]\n",
       " ..., \n",
       " [  4.66625750e-01   3.00940812e-01   6.81944609e-01 ...,   2.24790826e-01\n",
       "    6.74494624e-01   1.22247541e+00]\n",
       " [  1.17359512e-01   4.13591206e-01   3.26162457e-01 ...,   6.00852907e-01\n",
       "    1.39923140e-01   1.59403408e+00]\n",
       " [  2.38941070e-02   1.22237206e-03   0.00000000e+00 ...,   4.59886044e-01\n",
       "    1.01804495e+00   2.89312661e-01]]"
      ]
     },
     "execution_count": 49,
     "metadata": {},
     "output_type": "execute_result"
    }
   ],
   "source": [
    "arr"
   ]
  },
  {
   "cell_type": "code",
   "execution_count": 26,
   "metadata": {},
   "outputs": [
    {
     "data": {
      "text/plain": [
       "array([0.16688175, 0.36298326, 0.37069005, ..., 0.32237312, 1.3802015 ,\n",
       "       0.5637785 ], dtype=float32)"
      ]
     },
     "execution_count": 26,
     "metadata": {},
     "output_type": "execute_result"
    }
   ],
   "source": [
    "first_stored_prob"
   ]
  },
  {
   "cell_type": "code",
   "execution_count": 28,
   "metadata": {},
   "outputs": [
    {
     "data": {
      "text/plain": [
       "array([0.2640972 , 0.1215348 , 0.78102845, ..., 0.51005375, 0.33493176,\n",
       "       0.5856374 ], dtype=float32)"
      ]
     },
     "execution_count": 28,
     "metadata": {},
     "output_type": "execute_result"
    }
   ],
   "source": [
    "last_stored_prob = arr[344063]; last_stored_prob"
   ]
  },
  {
   "cell_type": "code",
   "execution_count": 30,
   "metadata": {},
   "outputs": [
    {
     "data": {
      "text/plain": [
       "array([[0.26409733, 0.12153473, 0.7810257 , ..., 0.5100514 , 0.33493188,\n",
       "        0.5856369 ]], dtype=float32)"
      ]
     },
     "execution_count": 30,
     "metadata": {},
     "output_type": "execute_result"
    }
   ],
   "source": [
    "prob"
   ]
  },
  {
   "cell_type": "code",
   "execution_count": null,
   "metadata": {},
   "outputs": [],
   "source": []
  }
 ],
 "metadata": {
  "kernelspec": {
   "display_name": "Tf GPU 3.5",
   "language": "python",
   "name": "tfgpu"
  },
  "language_info": {
   "codemirror_mode": {
    "name": "ipython",
    "version": 3
   },
   "file_extension": ".py",
   "mimetype": "text/x-python",
   "name": "python",
   "nbconvert_exporter": "python",
   "pygments_lexer": "ipython3",
   "version": "3.5.5"
  }
 },
 "nbformat": 4,
 "nbformat_minor": 2
}
